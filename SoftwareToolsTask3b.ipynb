{
 "cells": [
  {
   "cell_type": "code",
   "execution_count": null,
   "metadata": {},
   "outputs": [],
   "source": [
    "import numpy as np\n",
    "import matplotlib.pyplot as plt\n",
    "from tqdm import tqdm\n",
    "from pathlib import Path"
   ]
  },
  {
   "cell_type": "markdown",
   "metadata": {},
   "source": [
    "## Defining the Parameters"
   ]
  },
  {
   "cell_type": "code",
   "execution_count": null,
   "metadata": {},
   "outputs": [],
   "source": [
    "# parameters\n",
    "GRAVITATIONAL_CONSTANT = 6.67430e-11  # m^3 kg^-1 s^-2\n",
    "POSITIONS = np.array([[-1, 0], [1, 0]])\n",
    "VELOCITIES = np.array([[0, -1], [0, 1]]) \n",
    "MASSES = [4 / GRAVITATIONAL_CONSTANT, 4 / GRAVITATIONAL_CONSTANT]\n",
    "TIME_STEP = 0.0001  # s\n",
    "NUMBER_OF_TIME_STEPS = 1000000\n",
    "PLOT_INTERVAL = 1000"
   ]
  },
  {
   "cell_type": "code",
   "execution_count": null,
   "metadata": {},
   "outputs": [],
   "source": [
    "# derived variables\n",
    "number_of_planets = len(POSITIONS)\n",
    "number_of_dimensions = 2"
   ]
  },
  {
   "cell_type": "markdown",
   "metadata": {},
   "source": [
    "## Check for consistency in Data"
   ]
  },
  {
   "cell_type": "code",
   "execution_count": null,
   "metadata": {},
   "outputs": [],
   "source": [
    "# make sure the number of planets is the same for all quantities\n",
    "assert len(POSITIONS) == len(VELOCITIES) == len(MASSES)\n",
    "for position in POSITIONS:\n",
    "    assert len(position) == number_of_dimensions\n",
    "for velocity in VELOCITIES:\n",
    "    assert len(velocity) == number_of_dimensions"
   ]
  },
  {
   "cell_type": "markdown",
   "metadata": {},
   "source": [
    "## Defining the Mesh Grid "
   ]
  },
  {
   "cell_type": "code",
   "execution_count": null,
   "metadata": {},
   "outputs": [],
   "source": [
    "x_start=-1.5\n",
    "x_end=1.5\n",
    "y_start=-1.5\n",
    "y_end=1.5\n",
    "\n",
    "## Number of pixels i.e., little rectangles facilitating sharp visulaization\n",
    "\n",
    "n_pixel_x=10\n",
    "n_pixel_y=10\n",
    "\n",
    "dx=(x_end-x_start)/n_pixel_x\n",
    "dy=(y_end-y_start)/n_pixel_y\n",
    "\n",
    "xv=np.linspace(x_start,x_end,n_pixel_x+1)\n",
    "yv=np.linspace(y_start,y_end,n_pixel_y+1)\n",
    "\n",
    "xc=np.linspace(x_start+(dx/2),x_end-(dx/2),n_pixel_x)\n",
    "yc=np.linspace(y_start+(dy/2),y_end-(dy/2),n_pixel_y)\n",
    "\n",
    "xv_2d,yv_2d=np.meshgrid(xv,yv)\n",
    "xc_2d,yc_2d=np.meshgrid(xc,yc)\n"
   ]
  },
  {
   "cell_type": "markdown",
   "metadata": {},
   "source": [
    "## Computing Gravitational Potential & Analyzing through 'pcolormesh'\n",
    " If the mass distribution is a finite collection of point masses, and if the point masses are located at the points $x_{1}$, ..., $x_{n}$ and have masses $m_{1}$, ...,$m_{n}$, then the potential of the distribution at the point $x$ is\n",
    "\n",
    "$ V =\\sum_{i=1}^{n}-{\\frac {Gm_{i}}{|\\mathbf {x} -\\mathbf {x_{i}} |}}$"
   ]
  },
  {
   "cell_type": "code",
   "execution_count": null,
   "metadata": {},
   "outputs": [],
   "source": [
    "mass = np.array([MASSES[1],MASSES[0]]) # This mass variable is used in computing the acceleration \n",
    "for step in tqdm(range(NUMBER_OF_TIME_STEPS+1)):\n",
    "    potential_sum = np.zeros_like(xc_2d)\n",
    "    for i in range(number_of_planets):\n",
    "        x1 = POSITIONS[i,0] - xc_2d\n",
    "        x1_2 = np.square(x1)\n",
    "        y1 = POSITIONS[i,1] - yc_2d\n",
    "        y1_2 = np.square(y1)\n",
    "        distance = x1_2 + y1_2\n",
    "        potential_sum += (-GRAVITATIONAL_CONSTANT*MASSES[i])*(np.reciprocal(np.sqrt(distance)))\n",
    "        \n",
    "\n",
    "    # plotting every single configuration does not make sense\n",
    "    if step % PLOT_INTERVAL == 0:\n",
    "        fig, ax = plt.subplots()\n",
    "        plt.pcolormesh(xv,yv,potential_sum)\n",
    "        plt.colorbar()\n",
    "        ax.set_aspect(\"equal\")\n",
    "        ax.set_xlim(-1.5, 1.5)\n",
    "        ax.set_ylim(-1.5, 1.5)\n",
    "        ax.set_title(\"Potential at t = {:8.4f} s\".format(step * TIME_STEP))\n",
    "        ax.set_xlabel(\"x\")\n",
    "        ax.set_ylabel(\"y\")\n",
    "        output_file_path = Path(\"potentials\", \"{:016d}.png\".format(step))\n",
    "        output_file_path.parent.mkdir(exist_ok=True)\n",
    "        fig.savefig(output_file_path)\n",
    "        plt.close(fig)\n",
    "    \n",
    "    distance_vector = POSITIONS[0]-POSITIONS[1]\n",
    "    distance_vector_length = (np.linalg.norm(distance_vector))**2  #Computing the Distance vector Length\n",
    "    acceleration = (GRAVITATIONAL_CONSTANT*mass/distance_vector_length)*np.array([-1*distance_vector,distance_vector])\n",
    "    POSITIONS = POSITIONS + VELOCITIES*TIME_STEP #position update\n",
    "    VELOCITIES = VELOCITIES + acceleration * TIME_STEP #position update\n"
   ]
  }
 ],
 "metadata": {
  "kernelspec": {
   "display_name": "Python 3",
   "language": "python",
   "name": "python3"
  },
  "language_info": {
   "codemirror_mode": {
    "name": "ipython",
    "version": 3
   },
   "file_extension": ".py",
   "mimetype": "text/x-python",
   "name": "python",
   "nbconvert_exporter": "python",
   "pygments_lexer": "ipython3",
   "version": "3.7.3"
  }
 },
 "nbformat": 4,
 "nbformat_minor": 2
}
