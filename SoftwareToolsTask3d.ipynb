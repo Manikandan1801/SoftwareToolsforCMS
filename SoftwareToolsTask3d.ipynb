{
 "cells": [
  {
   "cell_type": "code",
   "execution_count": 25,
   "metadata": {},
   "outputs": [],
   "source": [
    "import numpy as np\n",
    "import matplotlib.pyplot as plt\n",
    "from tqdm import tqdm"
   ]
  },
  {
   "cell_type": "markdown",
   "metadata": {},
   "source": [
    "## Defining all the constants"
   ]
  },
  {
   "cell_type": "code",
   "execution_count": 26,
   "metadata": {},
   "outputs": [],
   "source": [
    "GRAVITATIONAL_CONSTANT = 6.67430e-11  # m^3 kg^-1 s^-2\n",
    "POSITIONS = np.array([[-1, 0], [1, 0]])\n",
    "VELOCITIES = np.array([[0, -1], [0, 1]])\n",
    "MASSES = [4 / GRAVITATIONAL_CONSTANT, 4 / GRAVITATIONAL_CONSTANT]\n",
    "TIME_STEP = 0.0001  # s\n",
    "NUMBER_OF_TIME_STEPS = 1000000\n",
    "PLOT_INTERVAL = 1000\n"
   ]
  },
  {
   "cell_type": "markdown",
   "metadata": {},
   "source": [
    "## Defining acceleration function\n",
    "\n",
    "$acceleration_{1} = G*m_{2}/r_{ij}^{2}$\n",
    "\n"
   ]
  },
  {
   "cell_type": "code",
   "execution_count": 27,
   "metadata": {},
   "outputs": [],
   "source": [
    "def acceleration(G,mass,POSITIONS):\n",
    "    dist_vector = POSITIONS[0]-POSITIONS[1]\n",
    "    dist = np.linalg.norm(dist_vector)**2\n",
    "    accelerations = (-1*G*mass/dist)*np.array([dist_vector,-1*dist_vector])\n",
    "    return accelerations"
   ]
  },
  {
   "cell_type": "markdown",
   "metadata": {},
   "source": [
    "## Semi-Implicit Time Integration\n",
    "The semi-implicit Euler method produces an approximate discrete solution by iterating\n",
    "\n",
    "\\begin{align}\n",
    "  v_{n+1} &= v_n + g(t_n, x_n) \\, \\Delta t\\\\[0.3em]\n",
    "  x_{n+1} &= x_n + f(t_n, v_{n+1}) \\, \\Delta t\n",
    "\\end{align}\n",
    "where Δt is the time step and $t_{n} = t_{0} + nΔt$ is the time after n steps"
   ]
  },
  {
   "cell_type": "code",
   "execution_count": 28,
   "metadata": {},
   "outputs": [
    {
     "name": "stderr",
     "output_type": "stream",
     "text": [
      "100%|██████████████████████████████| 1000001/1000001 [01:43<00:00, 9702.39it/s]\n"
     ]
    }
   ],
   "source": [
    "v = [VELOCITIES]\n",
    "y = [POSITIONS]\n",
    "\n",
    "mass = np.array([MASSES[1],MASSES[0]])\n",
    "\n",
    "for step in tqdm(range(NUMBER_OF_TIME_STEPS + 1)):\n",
    "    v_old = v[-1]\n",
    "    x_old = y[-1]\n",
    "    v_new = v_old + (acceleration(GRAVITATIONAL_CONSTANT,mass,x_old) * TIME_STEP)\n",
    "    x_new = x_old + (v_new * TIME_STEP)\n",
    "    v.append(v_new)\n",
    "    y.append(x_new)\n",
    "\n"
   ]
  },
  {
   "cell_type": "code",
   "execution_count": 29,
   "metadata": {},
   "outputs": [],
   "source": [
    "#converting the POSITIONS list into array to facilitate plotting\n",
    "position_array = np.array(y) #Shape will be (N,2,2)"
   ]
  },
  {
   "cell_type": "markdown",
   "metadata": {},
   "source": [
    "## Plotting the Trajectories of Planet 1 and 2"
   ]
  },
  {
   "cell_type": "code",
   "execution_count": 31,
   "metadata": {},
   "outputs": [],
   "source": [
    "fig, ax = plt.subplots(ncols=2, figsize=(15,5))\n",
    "for i in range(0, position_array.shape[1]):\n",
    "    ax[i].plot(position_array[:, i, 0], position_array[:, i, 1]) #Slicing so as to plot X and Y \n",
    "    ax[i].set_title(str('Trajectory of Planet:')+str(i+1), fontsize = 20)\n",
    "    ax[i].set_xlabel(\"x\", fontsize=20)\n",
    "    ax[i].set_ylabel(\"y\", fontsize = 20)\n",
    "    fig.savefig(\"Trajectotres_of_planets.png\")\n",
    "    plt.close(fig)\n"
   ]
  }
 ],
 "metadata": {
  "kernelspec": {
   "display_name": "Python 3",
   "language": "python",
   "name": "python3"
  },
  "language_info": {
   "codemirror_mode": {
    "name": "ipython",
    "version": 3
   },
   "file_extension": ".py",
   "mimetype": "text/x-python",
   "name": "python",
   "nbconvert_exporter": "python",
   "pygments_lexer": "ipython3",
   "version": "3.7.3"
  }
 },
 "nbformat": 4,
 "nbformat_minor": 2
}
