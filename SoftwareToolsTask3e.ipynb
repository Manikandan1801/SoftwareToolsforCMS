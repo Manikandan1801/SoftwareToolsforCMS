{
 "cells": [
  {
   "cell_type": "code",
   "execution_count": null,
   "metadata": {},
   "outputs": [],
   "source": [
    "import numpy as np\n",
    "import matplotlib.pyplot as plt\n",
    "from tqdm import tqdm\n",
    "from pathlib import Path"
   ]
  },
  {
   "cell_type": "markdown",
   "metadata": {},
   "source": [
    "## Defining all the constants"
   ]
  },
  {
   "cell_type": "code",
   "execution_count": null,
   "metadata": {},
   "outputs": [],
   "source": [
    "# parameters\n",
    "GRAVITATIONAL_CONSTANT = 6.67430e-11  # m^3 kg^-1 s^-2\n",
    "POSITIONS = np.array([[-1, 0], [1, 0]])\n",
    "VELOCITIES = np.array([[0, -1], [0, 1]]) \n",
    "MASSES = [4 / GRAVITATIONAL_CONSTANT, 4 / GRAVITATIONAL_CONSTANT]\n",
    "TIME_STEP = 0.0001  # s\n",
    "NUMBER_OF_TIME_STEPS = 1000000\n",
    "PLOT_INTERVAL = 1000"
   ]
  },
  {
   "cell_type": "code",
   "execution_count": null,
   "metadata": {},
   "outputs": [],
   "source": [
    "# derived variables\n",
    "number_of_planets = len(POSITIONS)\n",
    "number_of_dimensions = 2"
   ]
  },
  {
   "cell_type": "markdown",
   "metadata": {},
   "source": [
    "## Check for Data Consistency"
   ]
  },
  {
   "cell_type": "code",
   "execution_count": null,
   "metadata": {},
   "outputs": [],
   "source": [
    "# make sure the number of planets is the same for all quantities\n",
    "assert len(POSITIONS) == len(VELOCITIES) == len(MASSES)\n",
    "for position in POSITIONS:\n",
    "    assert len(position) == number_of_dimensions\n",
    "for velocity in POSITIONS:\n",
    "    assert len(velocity) == number_of_dimensions"
   ]
  },
  {
   "cell_type": "markdown",
   "metadata": {},
   "source": [
    "## Defining Meshgrid and locating masses at Pixel Centres"
   ]
  },
  {
   "cell_type": "code",
   "execution_count": null,
   "metadata": {},
   "outputs": [],
   "source": [
    "x_start=-1.5\n",
    "x_end=1.5\n",
    "y_start=-1.5\n",
    "y_end=1.5\n",
    "\n",
    "## Number of pixels i.e., little rectangles facilitating sharp visulaization\n",
    "\n",
    "n_pixel_x=10\n",
    "n_pixel_y=10\n",
    "\n",
    "dx=(x_end-x_start)/n_pixel_x\n",
    "dy=(y_end-y_start)/n_pixel_y\n",
    "\n",
    "xv=np.linspace(x_start,x_end,n_pixel_x+1)\n",
    "yv=np.linspace(y_start,y_end,n_pixel_y+1)\n",
    "\n",
    "xc=np.linspace(x_start+(dx/2),x_end-(dx/2),n_pixel_x)\n",
    "yc=np.linspace(y_start+(dy/2),y_end-(dy/2),n_pixel_y)\n",
    "\n",
    "xv_2d,yv_2d=np.meshgrid(xv,yv)\n",
    "xc_2d,yc_2d=np.meshgrid(xc,yc)\n"
   ]
  },
  {
   "cell_type": "markdown",
   "metadata": {},
   "source": [
    "## Computing Gravitational Force and analysing through quiver plot\n",
    " The equation is the following:\n",
    "\n",
    "$\\mathrm{\\large{\\vec{F}= -G{\\frac {m_{1}m_{2}}{\\mid{r}\\mid^{3}}}\\vec{r}}}$\n",
    "\n",
    "Where F is the force, m1 and m2 are the masses of the objects interacting, $\\mid{r}\\mid$ is the distance & $\\vec{r}$ is the displacement vector between the centers of the masses and G is the gravitational constant.\n",
    "\n"
   ]
  },
  {
   "cell_type": "code",
   "execution_count": null,
   "metadata": {},
   "outputs": [],
   "source": [
    "mass = np.array([MASSES[1],MASSES[0]]) # This mass variable is used in computing the acceleration \n",
    "for step in tqdm(range(NUMBER_OF_TIME_STEPS+1)):\n",
    "    #potential_sum = np.zeros_like(xc_2d)\n",
    "    force_X = np.zeros_like(xc_2d)\n",
    "    force_Y = np.zeros_like(yc_2d)\n",
    "    for i in range(number_of_planets):\n",
    "        x1 = POSITIONS[i,0] - xc_2d\n",
    "        x1_2 = np.square(x1)\n",
    "        \n",
    "        y1 = POSITIONS[i,1] - yc_2d\n",
    "        y1_2 = np.square(y1)\n",
    "        distance = x1_2 + y1_2\n",
    "        #potential_sum += (-GRAVITATIONAL_CONSTANT*MASSES[i])*(np.reciprocal(np.sqrt(distance)))\n",
    "        force_X+= (-GRAVITATIONAL_CONSTANT*MASSES[i]*1)*(np.reciprocal(np.power((np.sqrt(distance)),3)))*x1\n",
    "        force_Y+= (-GRAVITATIONAL_CONSTANT*MASSES[i]*1)*(np.reciprocal(np.power((np.sqrt(distance)),3)))*y1\n",
    "\n",
    "    # plotting every single configuration does not make sense\n",
    "    if step % PLOT_INTERVAL == 0:\n",
    "        fig, ax = plt.subplots()\n",
    "        ax.quiver(xc_2d,yc_2d,force_X,force_Y)\n",
    "        plt.scatter(POSITIONS[:,0], POSITIONS[:,1])\n",
    "        ax.set_aspect(\"equal\")\n",
    "        ax.set_xlim(-1.5, 1.5)\n",
    "        ax.set_ylim(-1.5, 1.5)\n",
    "        ax.set_title(\"Force at t = {:8.4f} s\".format(step * TIME_STEP))\n",
    "        ax.set_xlabel(\"x\")\n",
    "        ax.set_ylabel(\"y\")\n",
    "        output_file_path = Path(\"forces\", \"{:016d}.png\".format(step))\n",
    "        output_file_path.parent.mkdir(exist_ok=True)\n",
    "        fig.savefig(output_file_path)\n",
    "        plt.close(fig)\n",
    "    \n",
    "    distance_vector = POSITIONS[0]-POSITIONS[1]\n",
    "    distance_vector_length = (np.linalg.norm(distance_vector))**3  #Computing the Distance vector Length\n",
    "    acceleration = (GRAVITATIONAL_CONSTANT*mass/distance_vector_length)*np.array([-1*distance_vector,distance_vector])\n",
    "    POSITIONS = POSITIONS + VELOCITIES*TIME_STEP #position update\n",
    "    VELOCITIES = VELOCITIES + acceleration * TIME_STEP #velocity update\n"
   ]
  },
  {
   "cell_type": "code",
   "execution_count": null,
   "metadata": {},
   "outputs": [],
   "source": []
  }
 ],
 "metadata": {
  "kernelspec": {
   "display_name": "Python 3",
   "language": "python",
   "name": "python3"
  },
  "language_info": {
   "codemirror_mode": {
    "name": "ipython",
    "version": 3
   },
   "file_extension": ".py",
   "mimetype": "text/x-python",
   "name": "python",
   "nbconvert_exporter": "python",
   "pygments_lexer": "ipython3",
   "version": "3.7.3"
  }
 },
 "nbformat": 4,
 "nbformat_minor": 2
}
