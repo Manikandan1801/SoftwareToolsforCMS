{
 "cells": [
  {
   "cell_type": "code",
   "execution_count": null,
   "metadata": {},
   "outputs": [],
   "source": [
    "import json\n",
    "\n",
    "from pathlib import Path\n",
    "\n",
    "import matplotlib.pyplot as plt\n",
    "\n",
    "# tqdm is used for a progress bar\n",
    "from tqdm import tqdm\n"
   ]
  },
  {
   "cell_type": "markdown",
   "metadata": {},
   "source": [
    "## Load Data from JSON File"
   ]
  },
  {
   "cell_type": "code",
   "execution_count": null,
   "metadata": {},
   "outputs": [],
   "source": [
    "with open('gravity_parameters.json', 'r') as f:\n",
    "    gravity_data = json.load(f)"
   ]
  },
  {
   "cell_type": "markdown",
   "metadata": {},
   "source": [
    "## CALLING Parameters from the extracted data (JSON file)"
   ]
  },
  {
   "cell_type": "code",
   "execution_count": null,
   "metadata": {},
   "outputs": [],
   "source": [
    "# parameters\n",
    "GRAVITATIONAL_CONSTANT = gravity_data[\"GRAVITATIONAL_CONSTANT\"]  # m^3 kg^-1 s^-2\n",
    "POSITIONS = gravity_data[\"POSITIONS\"]\n",
    "VELOCITIES = gravity_data[\"VELOCITIES\"]\n",
    "MASSES = [4 / gravity_data[\"GRAVITATIONAL_CONSTANT\"], 4 / gravity_data[\"GRAVITATIONAL_CONSTANT\"]]\n",
    "TIME_STEP = gravity_data[\"TIME_STEP\"]  # s\n",
    "NUMBER_OF_TIME_STEPS = gravity_data[\"NUMBER_OF_TIME_STEPS\"]\n",
    "PLOT_INTERVAL = gravity_data[\"PLOT_INTERVAL\"]\n",
    "\n",
    "\n"
   ]
  },
  {
   "cell_type": "code",
   "execution_count": null,
   "metadata": {},
   "outputs": [],
   "source": [
    "# derived variables\n",
    "number_of_planets = len(POSITIONS)\n",
    "number_of_dimensions = 2"
   ]
  },
  {
   "cell_type": "markdown",
   "metadata": {},
   "source": [
    "## Check for Data Consistency"
   ]
  },
  {
   "cell_type": "code",
   "execution_count": null,
   "metadata": {},
   "outputs": [],
   "source": [
    "# make sure the number of planets is the same for all quantities\n",
    "assert len(POSITIONS) == len(VELOCITIES) == len(MASSES)\n",
    "for position in POSITIONS:\n",
    "    assert len(position) == number_of_dimensions\n",
    "for velocity in POSITIONS:\n",
    "    assert len(velocity) == number_of_dimensions"
   ]
  },
  {
   "cell_type": "markdown",
   "metadata": {},
   "source": [
    "## Computing the positions and velocities with time update\n",
    "(Not plotting any data)"
   ]
  },
  {
   "cell_type": "code",
   "execution_count": null,
   "metadata": {},
   "outputs": [],
   "source": [
    "for step in tqdm(range(NUMBER_OF_TIME_STEPS + 1)):\n",
    "    # plotting every single configuration does not make sense\n",
    "#if step % PLOT_INTERVAL == 0:\n",
    "#    fig, ax = plt.subplots()\n",
    "#    x = []\n",
    "#    y = []\n",
    "#    for position in POSITIONS:\n",
    "#        x.append(position[0])\n",
    "#        y.append(position[1])\n",
    "#    ax.scatter(x, y)\n",
    "#    ax.set_aspect(\"equal\")\n",
    "#    ax.set_xlim(-1.5, 1.5)\n",
    "#    ax.set_ylim(-1.5, 1.5)\n",
    "#    ax.set_title(\"t = {:8.4f} s\".format(step * TIME_STEP))\n",
    "#    ax.set_xlabel(\"x\")\n",
    "#    ax.set_ylabel(\"y\")\n",
    "#    output_file_path = Path(\"positions\", \"{:016d}.png\".format(step))\n",
    "#    output_file_path.parent.mkdir(exist_ok=True)\n",
    "#    fig.savefig(output_file_path)\n",
    "#    plt.close(fig)\n",
    "#\n",
    "    # the accelerations for each planet are required to update the velocities\n",
    "    accelerations = []\n",
    "    for i in range(number_of_planets):\n",
    "        acceleration = [0, 0]\n",
    "        for j in range(number_of_planets):\n",
    "            if i == j:\n",
    "                continue\n",
    "\n",
    "            distance_vector = []\n",
    "            for coordinate_i, coordinate_j in zip(POSITIONS[i], POSITIONS[j]):\n",
    "                distance_vector.append(coordinate_j - coordinate_i)\n",
    "\n",
    "            sum_of_squares = 0\n",
    "            for coordinate in distance_vector:\n",
    "                sum_of_squares += coordinate ** 2\n",
    "            distance_vector_length = sum_of_squares ** (1 / 2)\n",
    "\n",
    "            acceleration_contribution = []\n",
    "            for coordinate in distance_vector:\n",
    "                acceleration_contribution.append(\n",
    "                    GRAVITATIONAL_CONSTANT\n",
    "                    * MASSES[j]\n",
    "                    / distance_vector_length ** 2\n",
    "                    * coordinate\n",
    "                )\n",
    "\n",
    "            for i in range(number_of_dimensions):\n",
    "                acceleration[i] += acceleration_contribution[i]\n",
    "\n",
    "        accelerations.append(acceleration)\n",
    "\n",
    "    for position, velocity in zip(POSITIONS, VELOCITIES):\n",
    "        for i in range(number_of_dimensions):\n",
    "            position[i] += TIME_STEP * velocity[i]\n",
    "\n",
    "    for velocity, acceleration in zip(VELOCITIES, accelerations):\n",
    "        for i in range(number_of_dimensions):\n",
    "            velocity[i] += TIME_STEP * acceleration[i]\n"
   ]
  }
 ],
 "metadata": {
  "kernelspec": {
   "display_name": "Python 3",
   "language": "python",
   "name": "python3"
  },
  "language_info": {
   "codemirror_mode": {
    "name": "ipython",
    "version": 3
   },
   "file_extension": ".py",
   "mimetype": "text/x-python",
   "name": "python",
   "nbconvert_exporter": "python",
   "pygments_lexer": "ipython3",
   "version": "3.7.3"
  }
 },
 "nbformat": 4,
 "nbformat_minor": 2
}
