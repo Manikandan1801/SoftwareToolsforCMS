{
 "cells": [
  {
   "cell_type": "code",
   "execution_count": 1,
   "metadata": {},
   "outputs": [],
   "source": [
    "import json"
   ]
  },
  {
   "cell_type": "markdown",
   "metadata": {},
   "source": [
    "## Dictionary of Parameters "
   ]
  },
  {
   "cell_type": "code",
   "execution_count": 2,
   "metadata": {},
   "outputs": [],
   "source": [
    "gravity_data ={\n",
    "    \"GRAVITATIONAL_CONSTANT\": 6.67430E-11, \n",
    "    \"POSITIONS\" : [[-1, 0], [1, 0]],\n",
    "    \"VELOCITIES\" : [[0, -1], [0, 1]],\n",
    "    \"TIME_STEP\": 0.0001,\n",
    "    \"NUMBER_OF_TIME_STEPS\" : 1000000,\n",
    "    \"PLOT_INTERVAL\" : 1000\n",
    "}"
   ]
  },
  {
   "cell_type": "markdown",
   "metadata": {},
   "source": [
    "## To create a JSON file and dump the defined parameters"
   ]
  },
  {
   "cell_type": "code",
   "execution_count": 3,
   "metadata": {},
   "outputs": [],
   "source": [
    "with open('gravity_parameters.json', 'w') as f:\n",
    "    json.dump(gravity_data, f, indent=2)"
   ]
  }
 ],
 "metadata": {
  "kernelspec": {
   "display_name": "Python 3",
   "language": "python",
   "name": "python3"
  },
  "language_info": {
   "codemirror_mode": {
    "name": "ipython",
    "version": 3
   },
   "file_extension": ".py",
   "mimetype": "text/x-python",
   "name": "python",
   "nbconvert_exporter": "python",
   "pygments_lexer": "ipython3",
   "version": "3.7.3"
  }
 },
 "nbformat": 4,
 "nbformat_minor": 2
}
